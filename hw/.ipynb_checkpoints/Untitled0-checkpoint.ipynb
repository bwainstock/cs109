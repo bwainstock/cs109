{
 "metadata": {
  "name": "",
  "signature": "sha256:959570394f9c378800ae88e9ac5c804aba52f15655522515f14fd3815b3b3c53"
 },
 "nbformat": 3,
 "nbformat_minor": 0,
 "worksheets": []
}